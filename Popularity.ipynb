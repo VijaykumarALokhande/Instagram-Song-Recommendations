{
 "cells": [
  {
   "cell_type": "markdown",
   "metadata": {},
   "source": [
    "* Input : influencer name\n",
    "* o/p 1 : list of top 10 songs; \n",
    "    1. such that song used by celebrity with more followers, best performance is returned\n",
    "* o/p 2: list of top 10 songs;\n",
    "    1. celebrity : influencer more than 80k followers\n",
    "    2. return top 10 songs such that most of the celebrities have used them as reels"
   ]
  },
  {
   "cell_type": "markdown",
   "metadata": {},
   "source": [
    "## Import"
   ]
  },
  {
   "cell_type": "code",
   "execution_count": 1,
   "metadata": {},
   "outputs": [],
   "source": [
    "import numpy as np\n",
    "import pandas as pd\n",
    "\n",
    "import matplotlib.pyplot as plt\n",
    "import seaborn as sns\n",
    "\n",
    "%matplotlib inline"
   ]
  },
  {
   "cell_type": "markdown",
   "metadata": {},
   "source": [
    "## DataFrame"
   ]
  },
  {
   "cell_type": "code",
   "execution_count": 54,
   "metadata": {},
   "outputs": [
    {
     "data": {
      "text/html": [
       "<div>\n",
       "<style scoped>\n",
       "    .dataframe tbody tr th:only-of-type {\n",
       "        vertical-align: middle;\n",
       "    }\n",
       "\n",
       "    .dataframe tbody tr th {\n",
       "        vertical-align: top;\n",
       "    }\n",
       "\n",
       "    .dataframe thead th {\n",
       "        text-align: right;\n",
       "    }\n",
       "</style>\n",
       "<table border=\"1\" class=\"dataframe\">\n",
       "  <thead>\n",
       "    <tr style=\"text-align: right;\">\n",
       "      <th></th>\n",
       "      <th>Profile URL</th>\n",
       "      <th>Likes</th>\n",
       "      <th>Comments</th>\n",
       "      <th>Time</th>\n",
       "      <th>Description</th>\n",
       "      <th>Song Name</th>\n",
       "      <th>Followers</th>\n",
       "    </tr>\n",
       "  </thead>\n",
       "  <tbody>\n",
       "    <tr>\n",
       "      <td>0</td>\n",
       "      <td>https://www.instagram.com/abhishekothari/</td>\n",
       "      <td>37230</td>\n",
       "      <td>30470</td>\n",
       "      <td>5d</td>\n",
       "      <td>Bombae💋 Loved by Millions🙌🏻🙈 #teamhk Managed b...</td>\n",
       "      <td>SOAAADD12AB018A9DD</td>\n",
       "      <td>69310.0</td>\n",
       "    </tr>\n",
       "    <tr>\n",
       "      <td>1</td>\n",
       "      <td>https://www.instagram.com/an_anandrk/</td>\n",
       "      <td>37139</td>\n",
       "      <td>18263</td>\n",
       "      <td>2d</td>\n",
       "      <td>#PyaarMangdi official video👇🏻👇🏻</td>\n",
       "      <td>SOAAADE12A6D4F80CC</td>\n",
       "      <td>120502.0</td>\n",
       "    </tr>\n",
       "  </tbody>\n",
       "</table>\n",
       "</div>"
      ],
      "text/plain": [
       "                                 Profile URL  Likes  Comments Time  \\\n",
       "0  https://www.instagram.com/abhishekothari/  37230     30470   5d   \n",
       "1      https://www.instagram.com/an_anandrk/  37139     18263   2d   \n",
       "\n",
       "                                         Description           Song Name  \\\n",
       "0  Bombae💋 Loved by Millions🙌🏻🙈 #teamhk Managed b...  SOAAADD12AB018A9DD   \n",
       "1                    #PyaarMangdi official video👇🏻👇🏻  SOAAADE12A6D4F80CC   \n",
       "\n",
       "   Followers  \n",
       "0    69310.0  \n",
       "1   120502.0  "
      ]
     },
     "execution_count": 54,
     "metadata": {},
     "output_type": "execute_result"
    }
   ],
   "source": [
    "df = pd.read_excel('Dummy Data2.xlsx')\n",
    "df.head(2)"
   ]
  },
  {
   "cell_type": "markdown",
   "metadata": {},
   "source": [
    "## Operate on Time"
   ]
  },
  {
   "cell_type": "code",
   "execution_count": 55,
   "metadata": {},
   "outputs": [
    {
     "data": {
      "text/html": [
       "<div>\n",
       "<style scoped>\n",
       "    .dataframe tbody tr th:only-of-type {\n",
       "        vertical-align: middle;\n",
       "    }\n",
       "\n",
       "    .dataframe tbody tr th {\n",
       "        vertical-align: top;\n",
       "    }\n",
       "\n",
       "    .dataframe thead th {\n",
       "        text-align: right;\n",
       "    }\n",
       "</style>\n",
       "<table border=\"1\" class=\"dataframe\">\n",
       "  <thead>\n",
       "    <tr style=\"text-align: right;\">\n",
       "      <th></th>\n",
       "      <th>Profile URL</th>\n",
       "      <th>Likes</th>\n",
       "      <th>Comments</th>\n",
       "      <th>Time</th>\n",
       "      <th>Description</th>\n",
       "      <th>Song Name</th>\n",
       "      <th>Followers</th>\n",
       "    </tr>\n",
       "  </thead>\n",
       "  <tbody>\n",
       "    <tr>\n",
       "      <td>0</td>\n",
       "      <td>https://www.instagram.com/abhishekothari/</td>\n",
       "      <td>37230</td>\n",
       "      <td>30470</td>\n",
       "      <td>5</td>\n",
       "      <td>Bombae💋 Loved by Millions🙌🏻🙈 #teamhk Managed b...</td>\n",
       "      <td>SOAAADD12AB018A9DD</td>\n",
       "      <td>69310.0</td>\n",
       "    </tr>\n",
       "    <tr>\n",
       "      <td>1</td>\n",
       "      <td>https://www.instagram.com/an_anandrk/</td>\n",
       "      <td>37139</td>\n",
       "      <td>18263</td>\n",
       "      <td>2</td>\n",
       "      <td>#PyaarMangdi official video👇🏻👇🏻</td>\n",
       "      <td>SOAAADE12A6D4F80CC</td>\n",
       "      <td>120502.0</td>\n",
       "    </tr>\n",
       "  </tbody>\n",
       "</table>\n",
       "</div>"
      ],
      "text/plain": [
       "                                 Profile URL  Likes  Comments  Time  \\\n",
       "0  https://www.instagram.com/abhishekothari/  37230     30470     5   \n",
       "1      https://www.instagram.com/an_anandrk/  37139     18263     2   \n",
       "\n",
       "                                         Description           Song Name  \\\n",
       "0  Bombae💋 Loved by Millions🙌🏻🙈 #teamhk Managed b...  SOAAADD12AB018A9DD   \n",
       "1                    #PyaarMangdi official video👇🏻👇🏻  SOAAADE12A6D4F80CC   \n",
       "\n",
       "   Followers  \n",
       "0    69310.0  \n",
       "1   120502.0  "
      ]
     },
     "execution_count": 55,
     "metadata": {},
     "output_type": "execute_result"
    }
   ],
   "source": [
    "def convert_week_to_days(s):\n",
    "    num = int(s[0])\n",
    "    if s[1]=='w':\n",
    "        num *= 7\n",
    "    return num\n",
    "df['Time'] = df['Time'].apply(convert_week_to_days)\n",
    "df.head(2)"
   ]
  },
  {
   "cell_type": "code",
   "execution_count": 56,
   "metadata": {},
   "outputs": [
    {
     "data": {
      "text/html": [
       "<div>\n",
       "<style scoped>\n",
       "    .dataframe tbody tr th:only-of-type {\n",
       "        vertical-align: middle;\n",
       "    }\n",
       "\n",
       "    .dataframe tbody tr th {\n",
       "        vertical-align: top;\n",
       "    }\n",
       "\n",
       "    .dataframe thead th {\n",
       "        text-align: right;\n",
       "    }\n",
       "</style>\n",
       "<table border=\"1\" class=\"dataframe\">\n",
       "  <thead>\n",
       "    <tr style=\"text-align: right;\">\n",
       "      <th></th>\n",
       "      <th>Profile URL</th>\n",
       "      <th>Likes</th>\n",
       "      <th>Comments</th>\n",
       "      <th>Description</th>\n",
       "      <th>Song Name</th>\n",
       "      <th>Followers</th>\n",
       "    </tr>\n",
       "  </thead>\n",
       "  <tbody>\n",
       "    <tr>\n",
       "      <td>0</td>\n",
       "      <td>https://www.instagram.com/abhishekothari/</td>\n",
       "      <td>7446.0</td>\n",
       "      <td>6094.0</td>\n",
       "      <td>Bombae💋 Loved by Millions🙌🏻🙈 #teamhk Managed b...</td>\n",
       "      <td>SOAAADD12AB018A9DD</td>\n",
       "      <td>69310.0</td>\n",
       "    </tr>\n",
       "    <tr>\n",
       "      <td>1</td>\n",
       "      <td>https://www.instagram.com/an_anandrk/</td>\n",
       "      <td>18569.5</td>\n",
       "      <td>9131.5</td>\n",
       "      <td>#PyaarMangdi official video👇🏻👇🏻</td>\n",
       "      <td>SOAAADE12A6D4F80CC</td>\n",
       "      <td>120502.0</td>\n",
       "    </tr>\n",
       "  </tbody>\n",
       "</table>\n",
       "</div>"
      ],
      "text/plain": [
       "                                 Profile URL    Likes  Comments  \\\n",
       "0  https://www.instagram.com/abhishekothari/   7446.0    6094.0   \n",
       "1      https://www.instagram.com/an_anandrk/  18569.5    9131.5   \n",
       "\n",
       "                                         Description           Song Name  \\\n",
       "0  Bombae💋 Loved by Millions🙌🏻🙈 #teamhk Managed b...  SOAAADD12AB018A9DD   \n",
       "1                    #PyaarMangdi official video👇🏻👇🏻  SOAAADE12A6D4F80CC   \n",
       "\n",
       "   Followers  \n",
       "0    69310.0  \n",
       "1   120502.0  "
      ]
     },
     "execution_count": 56,
     "metadata": {},
     "output_type": "execute_result"
    }
   ],
   "source": [
    "df['Likes'] = df['Likes']/df['Time']  #likes per days\n",
    "df['Comments'] = df['Comments']/df['Time']  #follower per day\n",
    "df.drop('Time', axis=1, inplace=True)\n",
    "df.head(2)"
   ]
  },
  {
   "cell_type": "markdown",
   "metadata": {},
   "source": [
    "## Engagement Rate"
   ]
  },
  {
   "cell_type": "code",
   "execution_count": 63,
   "metadata": {},
   "outputs": [
    {
     "data": {
      "text/html": [
       "<div>\n",
       "<style scoped>\n",
       "    .dataframe tbody tr th:only-of-type {\n",
       "        vertical-align: middle;\n",
       "    }\n",
       "\n",
       "    .dataframe tbody tr th {\n",
       "        vertical-align: top;\n",
       "    }\n",
       "\n",
       "    .dataframe thead th {\n",
       "        text-align: right;\n",
       "    }\n",
       "</style>\n",
       "<table border=\"1\" class=\"dataframe\">\n",
       "  <thead>\n",
       "    <tr style=\"text-align: right;\">\n",
       "      <th></th>\n",
       "      <th>Profile URL</th>\n",
       "      <th>Song Name</th>\n",
       "      <th>Followers</th>\n",
       "      <th>ER</th>\n",
       "    </tr>\n",
       "  </thead>\n",
       "  <tbody>\n",
       "    <tr>\n",
       "      <td>0</td>\n",
       "      <td>https://www.instagram.com/abhishekothari/</td>\n",
       "      <td>SOAAADD12AB018A9DD</td>\n",
       "      <td>69310.0</td>\n",
       "      <td>19.535421</td>\n",
       "    </tr>\n",
       "    <tr>\n",
       "      <td>1</td>\n",
       "      <td>https://www.instagram.com/an_anandrk/</td>\n",
       "      <td>SOAAADE12A6D4F80CC</td>\n",
       "      <td>120502.0</td>\n",
       "      <td>22.988000</td>\n",
       "    </tr>\n",
       "  </tbody>\n",
       "</table>\n",
       "</div>"
      ],
      "text/plain": [
       "                                 Profile URL           Song Name  Followers  \\\n",
       "0  https://www.instagram.com/abhishekothari/  SOAAADD12AB018A9DD    69310.0   \n",
       "1      https://www.instagram.com/an_anandrk/  SOAAADE12A6D4F80CC   120502.0   \n",
       "\n",
       "          ER  \n",
       "0  19.535421  \n",
       "1  22.988000  "
      ]
     },
     "execution_count": 63,
     "metadata": {},
     "output_type": "execute_result"
    }
   ],
   "source": [
    "df['ER'] = 100*(df['Likes'] + df['Comments'])/df['Followers']\n",
    "df.drop(['Likes', 'Comments', 'Description'], axis=1, inplace = True)\n",
    "df.head(2)"
   ]
  },
  {
   "cell_type": "markdown",
   "metadata": {},
   "source": [
    "## sort by follower, ER"
   ]
  },
  {
   "cell_type": "code",
   "execution_count": 68,
   "metadata": {},
   "outputs": [
    {
     "data": {
      "text/html": [
       "<div>\n",
       "<style scoped>\n",
       "    .dataframe tbody tr th:only-of-type {\n",
       "        vertical-align: middle;\n",
       "    }\n",
       "\n",
       "    .dataframe tbody tr th {\n",
       "        vertical-align: top;\n",
       "    }\n",
       "\n",
       "    .dataframe thead th {\n",
       "        text-align: right;\n",
       "    }\n",
       "</style>\n",
       "<table border=\"1\" class=\"dataframe\">\n",
       "  <thead>\n",
       "    <tr style=\"text-align: right;\">\n",
       "      <th></th>\n",
       "      <th>Profile URL</th>\n",
       "      <th>Song Name</th>\n",
       "      <th>Followers</th>\n",
       "      <th>ER</th>\n",
       "    </tr>\n",
       "  </thead>\n",
       "  <tbody>\n",
       "    <tr>\n",
       "      <td>38</td>\n",
       "      <td>https://www.instagram.com/iamkasturi/</td>\n",
       "      <td>SOAAALJ12AB01828B4</td>\n",
       "      <td>150984.0</td>\n",
       "      <td>8.960022</td>\n",
       "    </tr>\n",
       "    <tr>\n",
       "      <td>14</td>\n",
       "      <td>https://www.instagram.com/iamkasturi/</td>\n",
       "      <td>SOAAADE12A6D4F80CC</td>\n",
       "      <td>150984.0</td>\n",
       "      <td>2.628566</td>\n",
       "    </tr>\n",
       "    <tr>\n",
       "      <td>40</td>\n",
       "      <td>https://www.instagram.com/sahilart/</td>\n",
       "      <td>SOAAADD12AB018A9DD</td>\n",
       "      <td>139664.0</td>\n",
       "      <td>1.465132</td>\n",
       "    </tr>\n",
       "    <tr>\n",
       "      <td>16</td>\n",
       "      <td>https://www.instagram.com/sahilart/</td>\n",
       "      <td>SOAAADZ12A8C1334FB</td>\n",
       "      <td>139664.0</td>\n",
       "      <td>0.915820</td>\n",
       "    </tr>\n",
       "    <tr>\n",
       "      <td>1</td>\n",
       "      <td>https://www.instagram.com/an_anandrk/</td>\n",
       "      <td>SOAAADE12A6D4F80CC</td>\n",
       "      <td>120502.0</td>\n",
       "      <td>22.988000</td>\n",
       "    </tr>\n",
       "  </tbody>\n",
       "</table>\n",
       "</div>"
      ],
      "text/plain": [
       "                              Profile URL           Song Name  Followers  \\\n",
       "38  https://www.instagram.com/iamkasturi/  SOAAALJ12AB01828B4   150984.0   \n",
       "14  https://www.instagram.com/iamkasturi/  SOAAADE12A6D4F80CC   150984.0   \n",
       "40    https://www.instagram.com/sahilart/  SOAAADD12AB018A9DD   139664.0   \n",
       "16    https://www.instagram.com/sahilart/  SOAAADZ12A8C1334FB   139664.0   \n",
       "1   https://www.instagram.com/an_anandrk/  SOAAADE12A6D4F80CC   120502.0   \n",
       "\n",
       "           ER  \n",
       "38   8.960022  \n",
       "14   2.628566  \n",
       "40   1.465132  \n",
       "16   0.915820  \n",
       "1   22.988000  "
      ]
     },
     "execution_count": 68,
     "metadata": {},
     "output_type": "execute_result"
    }
   ],
   "source": [
    "df = df.sort_values([\"Followers\", \"ER\"], ascending = (False, False) )\n",
    "df.head(5)"
   ]
  },
  {
   "cell_type": "markdown",
   "metadata": {},
   "source": [
    "## Implement"
   ]
  },
  {
   "cell_type": "markdown",
   "metadata": {},
   "source": [
    "* create map from user to songs"
   ]
  },
  {
   "cell_type": "code",
   "execution_count": 75,
   "metadata": {},
   "outputs": [],
   "source": [
    "user_to_songs = {}\n",
    "length = df.shape[0]\n",
    "for i in range(length):\n",
    "    user = df.iloc[i]['Profile URL']\n",
    "    song = df.iloc[i]['Song Name']\n",
    "    \n",
    "    if user in user_to_songs: \n",
    "        user_to_songs[user].add(song) \n",
    "    else: \n",
    "        user_to_songs[user] = set([song])\n",
    "        pass\n",
    "    pass"
   ]
  },
  {
   "cell_type": "code",
   "execution_count": 76,
   "metadata": {},
   "outputs": [
    {
     "data": {
      "text/plain": [
       "{'SOAAADD12AB018A9DD', 'SOAAALJ12AB01828B4'}"
      ]
     },
     "execution_count": 76,
     "metadata": {},
     "output_type": "execute_result"
    }
   ],
   "source": [
    "user_to_songs['https://www.instagram.com/abhishekothari/']"
   ]
  },
  {
   "cell_type": "markdown",
   "metadata": {},
   "source": [
    "### Method 1:"
   ]
  },
  {
   "cell_type": "markdown",
   "metadata": {},
   "source": [
    "* solely on popularity of influencer\n",
    "* Assumptions : \n",
    "    1. Celebrity with more follower is more influential\n",
    "    2. same follower => compare ER\n",
    "    3. Even a single Celebrity with more performance can trigger a trend"
   ]
  },
  {
   "cell_type": "code",
   "execution_count": 92,
   "metadata": {},
   "outputs": [],
   "source": [
    "def recommend1(user):\n",
    "    recommended_songs = []\n",
    "    for song in df[df['Followers']>=80000]['Song Name']:\n",
    "        \n",
    "        #just limit ourselves to 10 songs\n",
    "        if len(recommended_songs)==10:\n",
    "            break\n",
    "        \n",
    "        if not song in user_to_songs[user]:\n",
    "            if not song in recommended_songs:\n",
    "                recommended_songs.append(song)\n",
    "        \n",
    "    return recommended_songs"
   ]
  },
  {
   "cell_type": "code",
   "execution_count": 80,
   "metadata": {},
   "outputs": [
    {
     "name": "stdout",
     "output_type": "stream",
     "text": [
      "['SOAAALJ12AB01828B4', 'SOAAADD12AB018A9DD', 'SOAAADZ12A8C1334FB', 'SOAAAGQ12A8C1420C8', 'SOAAAGO12A67AE0A0E', 'SOAAAKE12A8C1397E9', 'SOAABYG12AB01876F4', 'SOAAAGN12AB017D672', 'SOAAAGK12AB0189572', 'SOAAADF12A8C13DF62']\n"
     ]
    }
   ],
   "source": [
    "print(recommend1('https://www.instagram.com/an_anandrk/') )"
   ]
  },
  {
   "cell_type": "code",
   "execution_count": 83,
   "metadata": {},
   "outputs": [
    {
     "name": "stdout",
     "output_type": "stream",
     "text": [
      "['SOAAADE12A6D4F80CC', 'SOAAADZ12A8C1334FB', 'SOAAAFI12A6D4F9C66', 'SOAAAGQ12A8C1420C8', 'SOAAAGO12A67AE0A0E', 'SOAAAKE12A8C1397E9', 'SOAABYG12AB01876F4', 'SOAAAGN12AB017D672', 'SOAAAGK12AB0189572', 'SOAAADF12A8C13DF62']\n"
     ]
    }
   ],
   "source": [
    "print(recommend1('https://www.instagram.com/abhishekothari/') )"
   ]
  },
  {
   "cell_type": "code",
   "execution_count": 93,
   "metadata": {},
   "outputs": [
    {
     "name": "stdout",
     "output_type": "stream",
     "text": [
      "['SOAAADE12A6D4F80CC', 'SOAAADZ12A8C1334FB', 'SOAAAFI12A6D4F9C66', 'SOAAAGQ12A8C1420C8', 'SOAAAGO12A67AE0A0E', 'SOAAAKE12A8C1397E9', 'SOAABYG12AB01876F4', 'SOAAAGN12AB017D672', 'SOAAAGK12AB0189572', 'SOAAADF12A8C13DF62']\n"
     ]
    }
   ],
   "source": [
    "print(recommend1('https://www.instagram.com/abhishekothari/') )"
   ]
  },
  {
   "cell_type": "markdown",
   "metadata": {},
   "source": [
    "### Method 2:"
   ]
  },
  {
   "cell_type": "markdown",
   "metadata": {},
   "source": [
    "* based on no. of celebrities that have used the song as reel\n",
    "* Assumption:\n",
    "    1. define celebrity: influencer with follower count > 80k\n",
    "    2. Celebrities tend to follow the trends\n",
    "    3. more celebrities using the song, more likely it to be trending\n",
    "    4. more trending is a song, more useful for influencer"
   ]
  },
  {
   "cell_type": "code",
   "execution_count": 95,
   "metadata": {},
   "outputs": [],
   "source": [
    "dic = {}\n",
    "\n",
    "for song in df[df['Followers']>=80000]['Song Name']:\n",
    "    \n",
    "    if song in dic: \n",
    "        dic[song]+=1 \n",
    "    else: \n",
    "        dic[song]=1\n",
    "        pass\n",
    "    \n",
    "#create dictionary to count celebrities used a particular song"
   ]
  },
  {
   "cell_type": "code",
   "execution_count": 97,
   "metadata": {},
   "outputs": [
    {
     "data": {
      "text/plain": [
       "{'SOAAAKE12A8C1397E9': 6,\n",
       " 'SOAAADE12A6D4F80CC': 5,\n",
       " 'SOAAALJ12AB01828B4': 4,\n",
       " 'SOAAADD12AB018A9DD': 3,\n",
       " 'SOAAAGQ12A8C1420C8': 3,\n",
       " 'SOAAAGO12A67AE0A0E': 3,\n",
       " 'SOAAAGK12AB0189572': 2,\n",
       " 'SOAAAGP12A6D4F7D1C': 2,\n",
       " 'SOAAADZ12A8C1334FB': 1,\n",
       " 'SOAAAFI12A6D4F9C66': 1,\n",
       " 'SOAABYG12AB01876F4': 1,\n",
       " 'SOAAAGN12AB017D672': 1,\n",
       " 'SOAAADF12A8C13DF62': 1}"
      ]
     },
     "execution_count": 97,
     "metadata": {},
     "output_type": "execute_result"
    }
   ],
   "source": [
    "songs_ordered = dict(sorted(dic.items(), key=lambda item: item[1], reverse=True))\n",
    "songs_ordered"
   ]
  },
  {
   "cell_type": "code",
   "execution_count": 98,
   "metadata": {},
   "outputs": [],
   "source": [
    "def recommend2(user):\n",
    "    recommended_songs = []\n",
    "    for song in songs_ordered.keys():\n",
    "        \n",
    "        #just limit ourselves to 10 songs\n",
    "        if len(recommended_songs)==10:\n",
    "            break\n",
    "        \n",
    "        if not song in user_to_songs[user]:\n",
    "            if not song in recommended_songs:\n",
    "                recommended_songs.append(song)\n",
    "                \n",
    "    return recommended_songs"
   ]
  },
  {
   "cell_type": "code",
   "execution_count": 99,
   "metadata": {},
   "outputs": [
    {
     "name": "stdout",
     "output_type": "stream",
     "text": [
      "['SOAAAKE12A8C1397E9', 'SOAAALJ12AB01828B4', 'SOAAADD12AB018A9DD', 'SOAAAGQ12A8C1420C8', 'SOAAAGO12A67AE0A0E', 'SOAAAGK12AB0189572', 'SOAAAGP12A6D4F7D1C', 'SOAAADZ12A8C1334FB', 'SOAABYG12AB01876F4', 'SOAAAGN12AB017D672']\n"
     ]
    }
   ],
   "source": [
    "print(recommend2('https://www.instagram.com/an_anandrk/') )"
   ]
  },
  {
   "cell_type": "code",
   "execution_count": 100,
   "metadata": {},
   "outputs": [
    {
     "name": "stdout",
     "output_type": "stream",
     "text": [
      "['SOAAAKE12A8C1397E9', 'SOAAADE12A6D4F80CC', 'SOAAAGQ12A8C1420C8', 'SOAAAGO12A67AE0A0E', 'SOAAAGK12AB0189572', 'SOAAAGP12A6D4F7D1C', 'SOAAADZ12A8C1334FB', 'SOAAAFI12A6D4F9C66', 'SOAABYG12AB01876F4', 'SOAAAGN12AB017D672']\n"
     ]
    }
   ],
   "source": [
    "print(recommend2('https://www.instagram.com/abhishekothari/') )"
   ]
  }
 ],
 "metadata": {
  "kernelspec": {
   "display_name": "Python 3",
   "language": "python",
   "name": "python3"
  },
  "language_info": {
   "codemirror_mode": {
    "name": "ipython",
    "version": 3
   },
   "file_extension": ".py",
   "mimetype": "text/x-python",
   "name": "python",
   "nbconvert_exporter": "python",
   "pygments_lexer": "ipython3",
   "version": "3.7.4"
  }
 },
 "nbformat": 4,
 "nbformat_minor": 2
}
